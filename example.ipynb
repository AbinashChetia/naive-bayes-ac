{
 "cells": [
  {
   "cell_type": "code",
   "execution_count": 36,
   "metadata": {},
   "outputs": [],
   "source": [
    "import pandas as pd\n",
    "import numpy as np\n",
    "import matplotlib.pyplot as plt\n",
    "\n",
    "from NaiveBayesAC.naiveBayesAC import NaiveBayesAC as nbac\n",
    "from NaiveBayesAC import utilsAC as nbutac"
   ]
  },
  {
   "cell_type": "code",
   "execution_count": 37,
   "metadata": {},
   "outputs": [],
   "source": [
    "def apply_nv(X, y):\n",
    "    train_x, train_y, test_x, test_y = nbutac.splitTrainTest(X, y, 0.7)\n",
    "    nb_model = nbac()\n",
    "    nb_model.fit(train_x, train_y)\n",
    "    pred = nb_model.predict(test_x)\n",
    "    print(f'Model accuracy: {nbutac.get_acc(test_y, pred)}')"
   ]
  },
  {
   "cell_type": "markdown",
   "metadata": {},
   "source": [
    "### Data 1"
   ]
  },
  {
   "cell_type": "code",
   "execution_count": 38,
   "metadata": {},
   "outputs": [
    {
     "name": "stdout",
     "output_type": "stream",
     "text": [
      "(171, 4)\n"
     ]
    },
    {
     "data": {
      "text/html": [
       "<div>\n",
       "<style scoped>\n",
       "    .dataframe tbody tr th:only-of-type {\n",
       "        vertical-align: middle;\n",
       "    }\n",
       "\n",
       "    .dataframe tbody tr th {\n",
       "        vertical-align: top;\n",
       "    }\n",
       "\n",
       "    .dataframe thead th {\n",
       "        text-align: right;\n",
       "    }\n",
       "</style>\n",
       "<table border=\"1\" class=\"dataframe\">\n",
       "  <thead>\n",
       "    <tr style=\"text-align: right;\">\n",
       "      <th></th>\n",
       "      <th>0</th>\n",
       "      <th>1</th>\n",
       "      <th>2</th>\n",
       "      <th>3</th>\n",
       "    </tr>\n",
       "  </thead>\n",
       "  <tbody>\n",
       "    <tr>\n",
       "      <th>0</th>\n",
       "      <td>1</td>\n",
       "      <td>1</td>\n",
       "      <td>2</td>\n",
       "      <td>1</td>\n",
       "    </tr>\n",
       "    <tr>\n",
       "      <th>1</th>\n",
       "      <td>1</td>\n",
       "      <td>1</td>\n",
       "      <td>5</td>\n",
       "      <td>1</td>\n",
       "    </tr>\n",
       "    <tr>\n",
       "      <th>2</th>\n",
       "      <td>1</td>\n",
       "      <td>1</td>\n",
       "      <td>6</td>\n",
       "      <td>1</td>\n",
       "    </tr>\n",
       "    <tr>\n",
       "      <th>3</th>\n",
       "      <td>1</td>\n",
       "      <td>2</td>\n",
       "      <td>1</td>\n",
       "      <td>-1</td>\n",
       "    </tr>\n",
       "    <tr>\n",
       "      <th>4</th>\n",
       "      <td>1</td>\n",
       "      <td>2</td>\n",
       "      <td>5</td>\n",
       "      <td>1</td>\n",
       "    </tr>\n",
       "  </tbody>\n",
       "</table>\n",
       "</div>"
      ],
      "text/plain": [
       "   0  1  2  3\n",
       "0  1  1  2  1\n",
       "1  1  1  5  1\n",
       "2  1  1  6  1\n",
       "3  1  2  1 -1\n",
       "4  1  2  5  1"
      ]
     },
     "execution_count": 38,
     "metadata": {},
     "output_type": "execute_result"
    }
   ],
   "source": [
    "data1 = pd.read_csv('data1.csv', header=None)\n",
    "print(data1.shape)\n",
    "data1.head()"
   ]
  },
  {
   "cell_type": "code",
   "execution_count": 39,
   "metadata": {},
   "outputs": [
    {
     "data": {
      "text/plain": [
       "3\n",
       " 1    98\n",
       "-1    73\n",
       "Name: count, dtype: int64"
      ]
     },
     "execution_count": 39,
     "metadata": {},
     "output_type": "execute_result"
    }
   ],
   "source": [
    "data1_x = data1.iloc[:, :-1]\n",
    "data1_y = data1.iloc[:, -1]\n",
    "\n",
    "data1_y.value_counts()"
   ]
  },
  {
   "cell_type": "code",
   "execution_count": 40,
   "metadata": {},
   "outputs": [
    {
     "name": "stdout",
     "output_type": "stream",
     "text": [
      "Model accuracy: 0.9423076923076923\n"
     ]
    }
   ],
   "source": [
    "apply_nv(data1_x, data1_y)"
   ]
  },
  {
   "cell_type": "markdown",
   "metadata": {},
   "source": [
    "### Data 2"
   ]
  },
  {
   "cell_type": "code",
   "execution_count": 45,
   "metadata": {},
   "outputs": [
    {
     "name": "stdout",
     "output_type": "stream",
     "text": [
      "(218, 4)\n"
     ]
    },
    {
     "data": {
      "text/html": [
       "<div>\n",
       "<style scoped>\n",
       "    .dataframe tbody tr th:only-of-type {\n",
       "        vertical-align: middle;\n",
       "    }\n",
       "\n",
       "    .dataframe tbody tr th {\n",
       "        vertical-align: top;\n",
       "    }\n",
       "\n",
       "    .dataframe thead th {\n",
       "        text-align: right;\n",
       "    }\n",
       "</style>\n",
       "<table border=\"1\" class=\"dataframe\">\n",
       "  <thead>\n",
       "    <tr style=\"text-align: right;\">\n",
       "      <th></th>\n",
       "      <th>0</th>\n",
       "      <th>1</th>\n",
       "      <th>2</th>\n",
       "      <th>3</th>\n",
       "    </tr>\n",
       "  </thead>\n",
       "  <tbody>\n",
       "    <tr>\n",
       "      <th>0</th>\n",
       "      <td>-49.841</td>\n",
       "      <td>14.4510</td>\n",
       "      <td>-42.9420</td>\n",
       "      <td>-1</td>\n",
       "    </tr>\n",
       "    <tr>\n",
       "      <th>1</th>\n",
       "      <td>-48.796</td>\n",
       "      <td>-45.8040</td>\n",
       "      <td>9.9935</td>\n",
       "      <td>1</td>\n",
       "    </tr>\n",
       "    <tr>\n",
       "      <th>2</th>\n",
       "      <td>-48.563</td>\n",
       "      <td>-22.6430</td>\n",
       "      <td>-32.5720</td>\n",
       "      <td>-1</td>\n",
       "    </tr>\n",
       "    <tr>\n",
       "      <th>3</th>\n",
       "      <td>-48.427</td>\n",
       "      <td>37.3230</td>\n",
       "      <td>-29.4660</td>\n",
       "      <td>-1</td>\n",
       "    </tr>\n",
       "    <tr>\n",
       "      <th>4</th>\n",
       "      <td>-48.310</td>\n",
       "      <td>3.5721</td>\n",
       "      <td>34.9960</td>\n",
       "      <td>-1</td>\n",
       "    </tr>\n",
       "  </tbody>\n",
       "</table>\n",
       "</div>"
      ],
      "text/plain": [
       "        0        1        2  3\n",
       "0 -49.841  14.4510 -42.9420 -1\n",
       "1 -48.796 -45.8040   9.9935  1\n",
       "2 -48.563 -22.6430 -32.5720 -1\n",
       "3 -48.427  37.3230 -29.4660 -1\n",
       "4 -48.310   3.5721  34.9960 -1"
      ]
     },
     "execution_count": 45,
     "metadata": {},
     "output_type": "execute_result"
    }
   ],
   "source": [
    "data2 = pd.read_csv('data2.csv', header=None)\n",
    "print(data2.shape)\n",
    "data2.head()"
   ]
  },
  {
   "cell_type": "code",
   "execution_count": 91,
   "metadata": {},
   "outputs": [
    {
     "data": {
      "text/plain": [
       "[<matplotlib.lines.Line2D at 0x16c25ae10>]"
      ]
     },
     "execution_count": 91,
     "metadata": {},
     "output_type": "execute_result"
    },
    {
     "data": {
      "image/png": "[encoded data removed]",
      "text/plain": [
       "<Figure size 640x480 with 1 Axes>"
      ]
     },
     "metadata": {},
     "output_type": "display_data"
    }
   ],
   "source": [
    "i = 0\n",
    "plt.plot(data2[i])\n",
    "plt.plot(data2[i].describe()['mean'], marker='o')\n",
    "plt.plot(data2[i].describe()['min'], marker='x')\n",
    "plt.plot(data2[i].describe()['25%'], marker='x')\n",
    "plt.plot(data2[i].describe()['50%'], marker='x')\n",
    "plt.plot(data2[i].describe()['75%'], marker='x')\n",
    "plt.plot(data2[i].describe()['max'], marker='x')"
   ]
  },
  {
   "cell_type": "markdown",
   "metadata": {},
   "source": [
    "### Data 3"
   ]
  },
  {
   "cell_type": "code",
   "execution_count": 49,
   "metadata": {},
   "outputs": [
    {
     "name": "stdout",
     "output_type": "stream",
     "text": [
      "(208, 4)\n"
     ]
    },
    {
     "data": {
      "text/html": [
       "<div>\n",
       "<style scoped>\n",
       "    .dataframe tbody tr th:only-of-type {\n",
       "        vertical-align: middle;\n",
       "    }\n",
       "\n",
       "    .dataframe tbody tr th {\n",
       "        vertical-align: top;\n",
       "    }\n",
       "\n",
       "    .dataframe thead th {\n",
       "        text-align: right;\n",
       "    }\n",
       "</style>\n",
       "<table border=\"1\" class=\"dataframe\">\n",
       "  <thead>\n",
       "    <tr style=\"text-align: right;\">\n",
       "      <th></th>\n",
       "      <th>0</th>\n",
       "      <th>1</th>\n",
       "      <th>2</th>\n",
       "      <th>3</th>\n",
       "    </tr>\n",
       "  </thead>\n",
       "  <tbody>\n",
       "    <tr>\n",
       "      <th>0</th>\n",
       "      <td>12</td>\n",
       "      <td>10</td>\n",
       "      <td>28</td>\n",
       "      <td>0</td>\n",
       "    </tr>\n",
       "    <tr>\n",
       "      <th>1</th>\n",
       "      <td>13</td>\n",
       "      <td>10</td>\n",
       "      <td>27</td>\n",
       "      <td>0</td>\n",
       "    </tr>\n",
       "    <tr>\n",
       "      <th>2</th>\n",
       "      <td>14</td>\n",
       "      <td>8</td>\n",
       "      <td>28</td>\n",
       "      <td>0</td>\n",
       "    </tr>\n",
       "    <tr>\n",
       "      <th>3</th>\n",
       "      <td>14</td>\n",
       "      <td>12</td>\n",
       "      <td>24</td>\n",
       "      <td>0</td>\n",
       "    </tr>\n",
       "    <tr>\n",
       "      <th>4</th>\n",
       "      <td>14</td>\n",
       "      <td>13</td>\n",
       "      <td>23</td>\n",
       "      <td>0</td>\n",
       "    </tr>\n",
       "  </tbody>\n",
       "</table>\n",
       "</div>"
      ],
      "text/plain": [
       "    0   1   2  3\n",
       "0  12  10  28  0\n",
       "1  13  10  27  0\n",
       "2  14   8  28  0\n",
       "3  14  12  24  0\n",
       "4  14  13  23  0"
      ]
     },
     "execution_count": 49,
     "metadata": {},
     "output_type": "execute_result"
    }
   ],
   "source": [
    "data3 = pd.read_csv('data3.csv', header=None)\n",
    "print(data3.shape)\n",
    "data3.head()"
   ]
  },
  {
   "cell_type": "code",
   "execution_count": 55,
   "metadata": {},
   "outputs": [
    {
     "data": {
      "text/plain": [
       "3\n",
       "1    120\n",
       "0     88\n",
       "Name: count, dtype: int64"
      ]
     },
     "execution_count": 55,
     "metadata": {},
     "output_type": "execute_result"
    }
   ],
   "source": [
    "data3_x = data3.iloc[:, :-1]\n",
    "data3_y = data3.iloc[:, -1]\n",
    "\n",
    "data3_y.value_counts()"
   ]
  },
  {
   "cell_type": "code",
   "execution_count": 64,
   "metadata": {},
   "outputs": [
    {
     "name": "stdout",
     "output_type": "stream",
     "text": [
      "Model accuracy: 0.9047619047619048\n"
     ]
    }
   ],
   "source": [
    "apply_nv(data3_x, data3_y)"
   ]
  },
  {
   "cell_type": "markdown",
   "metadata": {},
   "source": [
    "### Mail classification 1"
   ]
  },
  {
   "cell_type": "code",
   "execution_count": 41,
   "metadata": {},
   "outputs": [],
   "source": [
    "mail_data1_dict = {'Good to see you. Good day.': 'spam',\n",
    "         'See the sky. See the little stars.': 'ham',\n",
    "         'Nice picture. Nice, nice, frame.': 'ham',\n",
    "         'See you. Good day.': 'spam'}\n",
    "\n",
    "mail_data1_list = ['Good, nice, little stars.']\n",
    "\n",
    "m_train1 = nbutac.text2df(mail_data1_dict)\n",
    "m_test1 = nbutac.text2df(mail_data1_list)\n",
    "\n",
    "m_train1_x = m_train1.iloc[:, :-1]\n",
    "m_train1_y = m_train1.iloc[:, -1]"
   ]
  },
  {
   "cell_type": "code",
   "execution_count": 42,
   "metadata": {},
   "outputs": [
    {
     "name": "stdout",
     "output_type": "stream",
     "text": [
      "good nice little stars : ham\n"
     ]
    }
   ],
   "source": [
    "mail_model1 = nbac()\n",
    "mail_model1.fit(m_train1_x, m_train1_y)\n",
    "mail_pred1 = mail_model1.predict(m_test1)\n",
    "mail_pred1 = ['spam' if i == 1 else 'ham' for i in mail_pred1]\n",
    "for i in range(len(mail_pred1)):\n",
    "    print(f'{mail_data1_list[i]} : {mail_pred1[i]}')"
   ]
  },
  {
   "cell_type": "markdown",
   "metadata": {},
   "source": [
    "### Mail classification 2"
   ]
  },
  {
   "cell_type": "code",
   "execution_count": 43,
   "metadata": {},
   "outputs": [],
   "source": [
    "mail_data2_dict = {'send us your internet banking password': 'spam', \n",
    "              'send us your mobile number': 'ham',\n",
    "              'change your internet banking password': 'ham',\n",
    "              'change your userid': 'spam', \n",
    "              'send your internet banking password': 'spam',\n",
    "              'send us your account details': 'spam'}\n",
    "\n",
    "mail_data2_list = ['change your account number', 'send your address']\n",
    "\n",
    "m_train2 = nbutac.text2df(mail_data2_dict)\n",
    "m_test2 = nbutac.text2df(mail_data2_list)\n",
    "\n",
    "m_train2_x = m_train2.iloc[:, :-1]\n",
    "m_train2_y = m_train2.iloc[:, -1]"
   ]
  },
  {
   "cell_type": "code",
   "execution_count": 44,
   "metadata": {},
   "outputs": [
    {
     "name": "stdout",
     "output_type": "stream",
     "text": [
      "change your account number : ham\n",
      "send your address : spam\n"
     ]
    }
   ],
   "source": [
    "mail_model2 = nbac()\n",
    "mail_model2.fit(m_train2_x, m_train2_y)\n",
    "mail_pred2 = mail_model2.predict(m_test2)\n",
    "mail_pred2 = ['spam' if i == 1 else 'ham' for i in mail_pred2]\n",
    "for i in range(len(mail_pred2)):\n",
    "    print(f'{mail_data2_list[i]} : {mail_pred2[i]}')"
   ]
  }
 ],
 "metadata": {
  "kernelspec": {
   "display_name": "Python 3",
   "language": "python",
   "name": "python3"
  },
  "language_info": {
   "codemirror_mode": {
    "name": "ipython",
    "version": 3
   },
   "file_extension": ".py",
   "mimetype": "text/x-python",
   "name": "python",
   "nbconvert_exporter": "python",
   "pygments_lexer": "ipython3",
   "version": "3.11.6"
  }
 },
 "nbformat": 4,
 "nbformat_minor": 2
}
