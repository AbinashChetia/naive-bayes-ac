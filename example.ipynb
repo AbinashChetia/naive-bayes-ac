{
 "cells": [
  {
   "cell_type": "code",
   "execution_count": 9,
   "metadata": {},
   "outputs": [],
   "source": [
    "import pandas as pd\n",
    "import numpy as np\n",
    "import matplotlib.pyplot as plt\n",
    "\n",
    "from NaiveBayesAC.naiveBayesAC import NaiveBayesAC as nbac\n",
    "from NaiveBayesAC import utilsAC as nbutac"
   ]
  },
  {
   "cell_type": "code",
   "execution_count": 10,
   "metadata": {},
   "outputs": [],
   "source": [
    "def apply_nv(X, y):\n",
    "    train_x, train_y, test_x, test_y = nbutac.splitTrainTest(X, y, 0.7)\n",
    "    nb_model = nbac()\n",
    "    nb_model.fit(train_x, train_y)\n",
    "    pred = nb_model.predict(test_x)\n",
    "    print(f'Model accuracy: {nbutac.get_acc(test_y, pred)}')"
   ]
  },
  {
   "cell_type": "markdown",
   "metadata": {},
   "source": [
    "### Data 1"
   ]
  },
  {
   "cell_type": "code",
   "execution_count": 11,
   "metadata": {},
   "outputs": [
    {
     "name": "stdout",
     "output_type": "stream",
     "text": [
      "(171, 4)\n"
     ]
    },
    {
     "data": {
      "text/html": [
       "<div>\n",
       "<style scoped>\n",
       "    .dataframe tbody tr th:only-of-type {\n",
       "        vertical-align: middle;\n",
       "    }\n",
       "\n",
       "    .dataframe tbody tr th {\n",
       "        vertical-align: top;\n",
       "    }\n",
       "\n",
       "    .dataframe thead th {\n",
       "        text-align: right;\n",
       "    }\n",
       "</style>\n",
       "<table border=\"1\" class=\"dataframe\">\n",
       "  <thead>\n",
       "    <tr style=\"text-align: right;\">\n",
       "      <th></th>\n",
       "      <th>0</th>\n",
       "      <th>1</th>\n",
       "      <th>2</th>\n",
       "      <th>3</th>\n",
       "    </tr>\n",
       "  </thead>\n",
       "  <tbody>\n",
       "    <tr>\n",
       "      <th>0</th>\n",
       "      <td>1</td>\n",
       "      <td>1</td>\n",
       "      <td>2</td>\n",
       "      <td>1</td>\n",
       "    </tr>\n",
       "    <tr>\n",
       "      <th>1</th>\n",
       "      <td>1</td>\n",
       "      <td>1</td>\n",
       "      <td>5</td>\n",
       "      <td>1</td>\n",
       "    </tr>\n",
       "    <tr>\n",
       "      <th>2</th>\n",
       "      <td>1</td>\n",
       "      <td>1</td>\n",
       "      <td>6</td>\n",
       "      <td>1</td>\n",
       "    </tr>\n",
       "    <tr>\n",
       "      <th>3</th>\n",
       "      <td>1</td>\n",
       "      <td>2</td>\n",
       "      <td>1</td>\n",
       "      <td>-1</td>\n",
       "    </tr>\n",
       "    <tr>\n",
       "      <th>4</th>\n",
       "      <td>1</td>\n",
       "      <td>2</td>\n",
       "      <td>5</td>\n",
       "      <td>1</td>\n",
       "    </tr>\n",
       "  </tbody>\n",
       "</table>\n",
       "</div>"
      ],
      "text/plain": [
       "   0  1  2  3\n",
       "0  1  1  2  1\n",
       "1  1  1  5  1\n",
       "2  1  1  6  1\n",
       "3  1  2  1 -1\n",
       "4  1  2  5  1"
      ]
     },
     "execution_count": 11,
     "metadata": {},
     "output_type": "execute_result"
    }
   ],
   "source": [
    "data1 = pd.read_csv('data1.csv', header=None)\n",
    "print(data1.shape)\n",
    "data1.head()"
   ]
  },
  {
   "cell_type": "code",
   "execution_count": 12,
   "metadata": {},
   "outputs": [
    {
     "data": {
      "text/plain": [
       "3\n",
       " 1    98\n",
       "-1    73\n",
       "Name: count, dtype: int64"
      ]
     },
     "execution_count": 12,
     "metadata": {},
     "output_type": "execute_result"
    }
   ],
   "source": [
    "data1_x = data1.iloc[:, :-1]\n",
    "data1_y = data1.iloc[:, -1]\n",
    "\n",
    "data1_y.value_counts()"
   ]
  },
  {
   "cell_type": "code",
   "execution_count": 13,
   "metadata": {},
   "outputs": [
    {
     "name": "stdout",
     "output_type": "stream",
     "text": [
      "Model accuracy: 0.9807692307692307\n"
     ]
    }
   ],
   "source": [
    "apply_nv(data1_x, data1_y)"
   ]
  },
  {
   "cell_type": "markdown",
   "metadata": {},
   "source": [
    "### Mail classification 1"
   ]
  },
  {
   "cell_type": "code",
   "execution_count": 14,
   "metadata": {},
   "outputs": [],
   "source": [
    "train_data2_dict = {'Good to see you. Good day.': 'spam',\n",
    "         'See the sky. See the little stars.': 'ham',\n",
    "         'Nice picture. Nice, nice, frame.': 'ham',\n",
    "         'See you. Good day.': 'spam'}\n",
    "\n",
    "test_data2_list = ['Good, nice, little stars.']\n",
    "\n",
    "train_data2 = nbutac.text2df(train_data2_dict)\n",
    "test_data2 = nbutac.text2df(test_data2_list)\n",
    "\n",
    "train_data2_x = train_data2.iloc[:, :-1]\n",
    "train_data2_y = train_data2.iloc[:, -1]"
   ]
  },
  {
   "cell_type": "code",
   "execution_count": 15,
   "metadata": {},
   "outputs": [
    {
     "name": "stdout",
     "output_type": "stream",
     "text": [
      "good nice little stars : ham\n"
     ]
    }
   ],
   "source": [
    "mail_model1 = nbac()\n",
    "mail_model1.fit(train_data2_x, train_data2_y)\n",
    "mail_pred1 = mail_model1.predict(test_data2)\n",
    "mail_pred1 = ['spam' if i == 1 else 'ham' for i in mail_pred1]\n",
    "for i in range(len(mail_pred1)):\n",
    "    print(f'{test_data2_list[i]} : {mail_pred1[i]}')"
   ]
  },
  {
   "cell_type": "markdown",
   "metadata": {},
   "source": [
    "### Mail classification 2"
   ]
  },
  {
   "cell_type": "code",
   "execution_count": 16,
   "metadata": {},
   "outputs": [],
   "source": [
    "train_data3_dict = {'send us your internet banking password': 'spam', \n",
    "              'send us your mobile number': 'ham',\n",
    "              'change your internet banking password': 'ham',\n",
    "              'change your userid': 'spam', \n",
    "              'send your internet banking password': 'spam',\n",
    "              'send us your account details': 'spam'}\n",
    "\n",
    "test_data3_list = ['change your account number', 'send your address']\n",
    "\n",
    "train_data3 = nbutac.text2df(train_data3_dict)\n",
    "test_data3 = nbutac.text2df(test_data3_list)\n",
    "\n",
    "train_data3_x = train_data3.iloc[:, :-1]\n",
    "train_data3_y = train_data3.iloc[:, -1]"
   ]
  },
  {
   "cell_type": "code",
   "execution_count": 17,
   "metadata": {},
   "outputs": [
    {
     "name": "stdout",
     "output_type": "stream",
     "text": [
      "change your account number : ham\n",
      "send your address : spam\n"
     ]
    }
   ],
   "source": [
    "mail_model2 = nbac()\n",
    "mail_model2.fit(train_data3_x, train_data3_y)\n",
    "mail_pred2 = mail_model2.predict(test_data3)\n",
    "mail_pred2 = ['spam' if i == 1 else 'ham' for i in mail_pred2]\n",
    "for i in range(len(mail_pred2)):\n",
    "    print(f'{test_data3_list[i]} : {mail_pred2[i]}')"
   ]
  }
 ],
 "metadata": {
  "kernelspec": {
   "display_name": "Python 3",
   "language": "python",
   "name": "python3"
  },
  "language_info": {
   "codemirror_mode": {
    "name": "ipython",
    "version": 3
   },
   "file_extension": ".py",
   "mimetype": "text/x-python",
   "name": "python",
   "nbconvert_exporter": "python",
   "pygments_lexer": "ipython3",
   "version": "3.11.6"
  }
 },
 "nbformat": 4,
 "nbformat_minor": 2
}
